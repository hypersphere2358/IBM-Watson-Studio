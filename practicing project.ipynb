{
    "cells": [
        {
            "metadata": {},
            "cell_type": "markdown",
            "source": "# Coursera \uc5f0\uc2b5\uc6a9"
        },
        {
            "metadata": {},
            "cell_type": "code",
            "source": "\nimport types\nimport pandas as pd\nfrom botocore.client import Config\nimport ibm_boto3\n\ndef __iter__(self): return 0\n\n# @hidden_cell\n# The following code accesses a file in your IBM Cloud Object Storage. It includes your credentials.\n# You might want to remove those credentials before you share the notebook.\nclient_db1001bc972741d1b6bdf016e2643365 = ibm_boto3.client(service_name='s3',\n    ibm_api_key_id='lNhadCbv-53qITmXZiV4HNzOAh7fwKL07ZP93pIBmKOP',\n    ibm_auth_endpoint=\"https://iam.cloud.ibm.com/oidc/token\",\n    config=Config(signature_version='oauth'),\n    endpoint_url='https://s3-api.us-geo.objectstorage.service.networklayer.com')\n\nbody = client_db1001bc972741d1b6bdf016e2643365.get_object(Bucket='myfirstproject-donotdelete-pr-bvxkfvq8hnqnui',Key='sample_data.csv')['Body']\n# add missing __iter__ method, so pandas accepts body as file-like object\nif not hasattr(body, \"__iter__\"): body.__iter__ = types.MethodType( __iter__, body )\n\ndf_data_1 = pd.read_csv(body)\ndf_data_1.head()\n",
            "execution_count": 1,
            "outputs": [
                {
                    "output_type": "execute_result",
                    "execution_count": 1,
                    "data": {
                        "text/plain": "         date  value  amount_sell_10  amount_sell_9  amount_sell_8  \\\n0  2020-04-22  48850           66290          34228           5126   \n1  2020-04-22  48950           25318           4994          11019   \n2  2020-04-22  48750           59311          33253           6822   \n3  2020-04-22  48850           19611          69588          33242   \n4  2020-04-22  48800           67601          38396          10681   \n\n   amount_sell_7  amount_sell_6  amount_sell_5  amount_sell_4  amount_sell_3  \\\n0          20542           6320          25126          14665          21210   \n1          59155          33786          12235          18568          21735   \n2          16499          12194          44669          18844          31197   \n3          10696          16430          11894          49034          17966   \n4          16377          13251          47389          21829          39044   \n\n   ...  amount_buy_3  amount_buy_4  amount_buy_5  amount_buy_6  amount_buy_7  \\\n0  ...         14782         40000         43950         79193         18702   \n1  ...         18374         19681         33788         28038         41952   \n2  ...         27704         48192         53391         96503         33632   \n3  ...         66958         40779         61164         65813        105998   \n4  ...         46596         66186         68715        111821         54301   \n\n   amount_buy_8  amount_buy_9  amount_buy_10  total_sell_amount  \\\n0         21392         13582          47015             209875   \n1         46458         87354          19442             232776   \n2         29295         16872          48804             306467   \n3         54357         50684          37037             290803   \n4         54704         37835          56024             304487   \n\n   total_buy_amount  \n0            334545  \n1            390117  \n2            451390  \n3            590258  \n4            663471  \n\n[5 rows x 24 columns]",
                        "text/html": "<div>\n<style scoped>\n    .dataframe tbody tr th:only-of-type {\n        vertical-align: middle;\n    }\n\n    .dataframe tbody tr th {\n        vertical-align: top;\n    }\n\n    .dataframe thead th {\n        text-align: right;\n    }\n</style>\n<table border=\"1\" class=\"dataframe\">\n  <thead>\n    <tr style=\"text-align: right;\">\n      <th></th>\n      <th>date</th>\n      <th>value</th>\n      <th>amount_sell_10</th>\n      <th>amount_sell_9</th>\n      <th>amount_sell_8</th>\n      <th>amount_sell_7</th>\n      <th>amount_sell_6</th>\n      <th>amount_sell_5</th>\n      <th>amount_sell_4</th>\n      <th>amount_sell_3</th>\n      <th>...</th>\n      <th>amount_buy_3</th>\n      <th>amount_buy_4</th>\n      <th>amount_buy_5</th>\n      <th>amount_buy_6</th>\n      <th>amount_buy_7</th>\n      <th>amount_buy_8</th>\n      <th>amount_buy_9</th>\n      <th>amount_buy_10</th>\n      <th>total_sell_amount</th>\n      <th>total_buy_amount</th>\n    </tr>\n  </thead>\n  <tbody>\n    <tr>\n      <th>0</th>\n      <td>2020-04-22</td>\n      <td>48850</td>\n      <td>66290</td>\n      <td>34228</td>\n      <td>5126</td>\n      <td>20542</td>\n      <td>6320</td>\n      <td>25126</td>\n      <td>14665</td>\n      <td>21210</td>\n      <td>...</td>\n      <td>14782</td>\n      <td>40000</td>\n      <td>43950</td>\n      <td>79193</td>\n      <td>18702</td>\n      <td>21392</td>\n      <td>13582</td>\n      <td>47015</td>\n      <td>209875</td>\n      <td>334545</td>\n    </tr>\n    <tr>\n      <th>1</th>\n      <td>2020-04-22</td>\n      <td>48950</td>\n      <td>25318</td>\n      <td>4994</td>\n      <td>11019</td>\n      <td>59155</td>\n      <td>33786</td>\n      <td>12235</td>\n      <td>18568</td>\n      <td>21735</td>\n      <td>...</td>\n      <td>18374</td>\n      <td>19681</td>\n      <td>33788</td>\n      <td>28038</td>\n      <td>41952</td>\n      <td>46458</td>\n      <td>87354</td>\n      <td>19442</td>\n      <td>232776</td>\n      <td>390117</td>\n    </tr>\n    <tr>\n      <th>2</th>\n      <td>2020-04-22</td>\n      <td>48750</td>\n      <td>59311</td>\n      <td>33253</td>\n      <td>6822</td>\n      <td>16499</td>\n      <td>12194</td>\n      <td>44669</td>\n      <td>18844</td>\n      <td>31197</td>\n      <td>...</td>\n      <td>27704</td>\n      <td>48192</td>\n      <td>53391</td>\n      <td>96503</td>\n      <td>33632</td>\n      <td>29295</td>\n      <td>16872</td>\n      <td>48804</td>\n      <td>306467</td>\n      <td>451390</td>\n    </tr>\n    <tr>\n      <th>3</th>\n      <td>2020-04-22</td>\n      <td>48850</td>\n      <td>19611</td>\n      <td>69588</td>\n      <td>33242</td>\n      <td>10696</td>\n      <td>16430</td>\n      <td>11894</td>\n      <td>49034</td>\n      <td>17966</td>\n      <td>...</td>\n      <td>66958</td>\n      <td>40779</td>\n      <td>61164</td>\n      <td>65813</td>\n      <td>105998</td>\n      <td>54357</td>\n      <td>50684</td>\n      <td>37037</td>\n      <td>290803</td>\n      <td>590258</td>\n    </tr>\n    <tr>\n      <th>4</th>\n      <td>2020-04-22</td>\n      <td>48800</td>\n      <td>67601</td>\n      <td>38396</td>\n      <td>10681</td>\n      <td>16377</td>\n      <td>13251</td>\n      <td>47389</td>\n      <td>21829</td>\n      <td>39044</td>\n      <td>...</td>\n      <td>46596</td>\n      <td>66186</td>\n      <td>68715</td>\n      <td>111821</td>\n      <td>54301</td>\n      <td>54704</td>\n      <td>37835</td>\n      <td>56024</td>\n      <td>304487</td>\n      <td>663471</td>\n    </tr>\n  </tbody>\n</table>\n<p>5 rows \u00d7 24 columns</p>\n</div>"
                    },
                    "metadata": {}
                }
            ]
        },
        {
            "metadata": {},
            "cell_type": "code",
            "source": "",
            "execution_count": null,
            "outputs": []
        }
    ],
    "metadata": {
        "kernelspec": {
            "name": "python3",
            "display_name": "Python 3.6",
            "language": "python"
        },
        "language_info": {
            "name": "python",
            "version": "3.6.9",
            "mimetype": "text/x-python",
            "codemirror_mode": {
                "name": "ipython",
                "version": 3
            },
            "pygments_lexer": "ipython3",
            "nbconvert_exporter": "python",
            "file_extension": ".py"
        }
    },
    "nbformat": 4,
    "nbformat_minor": 1
}